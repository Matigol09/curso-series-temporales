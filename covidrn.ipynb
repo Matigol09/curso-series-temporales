{
  "nbformat": 4,
  "nbformat_minor": 0,
  "metadata": {
    "colab": {
      "name": "covidrn.ipynb",
      "provenance": [],
      "collapsed_sections": [],
      "authorship_tag": "ABX9TyPQ0LNdSL58GDeDXTKwBp8H",
      "include_colab_link": true
    },
    "kernelspec": {
      "name": "python3",
      "display_name": "Python 3"
    }
  },
  "cells": [
    {
      "cell_type": "markdown",
      "metadata": {
        "id": "view-in-github",
        "colab_type": "text"
      },
      "source": [
        "<a href=\"https://colab.research.google.com/github/Matigol09/curso-series-temporales/blob/master/covidrn.ipynb\" target=\"_parent\"><img src=\"https://colab.research.google.com/assets/colab-badge.svg\" alt=\"Open In Colab\"/></a>"
      ]
    },
    {
      "cell_type": "code",
      "metadata": {
        "id": "5BK3UV984ytg",
        "colab_type": "code",
        "colab": {
          "base_uri": "https://localhost:8080/",
          "height": 517
        },
        "outputId": "d547a465-bf7e-4dee-c231-c840e715a13a"
      },
      "source": [
        "!pip install pmdarima"
      ],
      "execution_count": null,
      "outputs": [
        {
          "output_type": "stream",
          "text": [
            "Collecting pmdarima\n",
            "\u001b[?25l  Downloading https://files.pythonhosted.org/packages/6d/e9/6587edeffba78fbed826c45d2e85edfba1fcb18f3d7d5347b20cdbdc7327/pmdarima-1.7.0-cp36-cp36m-manylinux1_x86_64.whl (1.5MB)\n",
            "\u001b[K     |████████████████████████████████| 1.5MB 2.6MB/s \n",
            "\u001b[?25hRequirement already satisfied: scikit-learn>=0.22 in /usr/local/lib/python3.6/dist-packages (from pmdarima) (0.22.2.post1)\n",
            "Requirement already satisfied: joblib>=0.11 in /usr/local/lib/python3.6/dist-packages (from pmdarima) (0.16.0)\n",
            "Collecting Cython<0.29.18,>=0.29\n",
            "\u001b[?25l  Downloading https://files.pythonhosted.org/packages/e7/d7/510ddef0248f3e1e91f9cc7e31c0f35f8954d0af92c5c3fd4c853e859ebe/Cython-0.29.17-cp36-cp36m-manylinux1_x86_64.whl (2.1MB)\n",
            "\u001b[K     |████████████████████████████████| 2.1MB 29.2MB/s \n",
            "\u001b[?25hCollecting statsmodels>=0.11\n",
            "\u001b[?25l  Downloading https://files.pythonhosted.org/packages/00/93/1b6882f92d94e491a3e3be101fc83934551eada261281980f3957246432f/statsmodels-0.12.0-cp36-cp36m-manylinux1_x86_64.whl (9.5MB)\n",
            "\u001b[K     |████████████████████████████████| 9.5MB 38.7MB/s \n",
            "\u001b[?25hRequirement already satisfied: scipy>=1.3.2 in /usr/local/lib/python3.6/dist-packages (from pmdarima) (1.4.1)\n",
            "Requirement already satisfied: numpy>=1.17.3 in /usr/local/lib/python3.6/dist-packages (from pmdarima) (1.18.5)\n",
            "Requirement already satisfied: pandas>=0.19 in /usr/local/lib/python3.6/dist-packages (from pmdarima) (1.0.5)\n",
            "Requirement already satisfied: urllib3 in /usr/local/lib/python3.6/dist-packages (from pmdarima) (1.24.3)\n",
            "Requirement already satisfied: patsy>=0.5 in /usr/local/lib/python3.6/dist-packages (from statsmodels>=0.11->pmdarima) (0.5.1)\n",
            "Requirement already satisfied: python-dateutil>=2.6.1 in /usr/local/lib/python3.6/dist-packages (from pandas>=0.19->pmdarima) (2.8.1)\n",
            "Requirement already satisfied: pytz>=2017.2 in /usr/local/lib/python3.6/dist-packages (from pandas>=0.19->pmdarima) (2018.9)\n",
            "Requirement already satisfied: six in /usr/local/lib/python3.6/dist-packages (from patsy>=0.5->statsmodels>=0.11->pmdarima) (1.15.0)\n",
            "Installing collected packages: Cython, statsmodels, pmdarima\n",
            "  Found existing installation: Cython 0.29.21\n",
            "    Uninstalling Cython-0.29.21:\n",
            "      Successfully uninstalled Cython-0.29.21\n",
            "  Found existing installation: statsmodels 0.10.2\n",
            "    Uninstalling statsmodels-0.10.2:\n",
            "      Successfully uninstalled statsmodels-0.10.2\n",
            "Successfully installed Cython-0.29.17 pmdarima-1.7.0 statsmodels-0.12.0\n"
          ],
          "name": "stdout"
        }
      ]
    },
    {
      "cell_type": "code",
      "metadata": {
        "id": "wqW97YgKon4J",
        "colab_type": "code",
        "colab": {}
      },
      "source": [
        "import pandas as pd \n",
        "import numpy as np \n",
        "import matplotlib.pyplot as plt \n",
        "import statsmodels.graphics.tsaplots as sgt \n",
        "import statsmodels.tsa.stattools as sts \n",
        "from statsmodels.tsa.seasonal import seasonal_decompose\n",
        "import seaborn as sns\n",
        "from statsmodels.tsa.arima_model import ARIMA\n",
        "from statsmodels.tsa.seasonal import seasonal_decompose\n",
        "from pmdarima.arima import auto_arima"
      ],
      "execution_count": null,
      "outputs": []
    },
    {
      "cell_type": "code",
      "metadata": {
        "id": "WMk4Xcvz4qoD",
        "colab_type": "code",
        "colab": {
          "base_uri": "https://localhost:8080/",
          "height": 72
        },
        "outputId": "800d08ac-21f0-49fe-a919-41631e3c6a6a"
      },
      "source": [
        "#Unir fuente de datos de manera automática desde Web\n",
        "covid_data=pd.read_csv(\"https://raw.githubusercontent.com/owid/covid-19-data/master/public/data/owid-covid-data.csv\", sep=\",\")\n",
        "mobility_data=pd.read_csv(\"https://www.gstatic.com/covid19/mobility/Global_Mobility_Report.csv\",sep=\",\")\n",
        "covid_data.date=pd.to_datetime(covid_data.date, format=\"%Y-%m-%d\")\n",
        "mobility_data.date=pd.to_datetime(mobility_data.date, format=\"%Y-%m-%d\")\n",
        "covid_data['country']=covid_data['location']\n",
        "mobility_data['country']=mobility_data['country_region']\n",
        "all_data=pd.merge(covid_data, mobility_data,  how='left', left_on=['country','date'], right_on = ['country','date'])\n",
        "all_data=all_data.drop(['iso_code','location'],axis=1)"
      ],
      "execution_count": null,
      "outputs": [
        {
          "output_type": "stream",
          "text": [
            "/usr/local/lib/python3.6/dist-packages/IPython/core/interactiveshell.py:2718: DtypeWarning: Columns (4) have mixed types.Specify dtype option on import or set low_memory=False.\n",
            "  interactivity=interactivity, compiler=compiler, result=result)\n"
          ],
          "name": "stderr"
        }
      ]
    },
    {
      "cell_type": "code",
      "metadata": {
        "id": "nUKT65e25Op8",
        "colab_type": "code",
        "colab": {}
      },
      "source": [
        "#selección de datos que vamos a utilizar\n",
        "selected_data=all_data[['new_cases','new_deaths','residential_percent_change_from_baseline','country','date','sub_region_1']]\n",
        "selected_data_chile=selected_data[selected_data['country']=='Chile']\n",
        "selected_data_chile=selected_data_chile[selected_data_chile[\"sub_region_1\"].isna()]"
      ],
      "execution_count": null,
      "outputs": []
    },
    {
      "cell_type": "code",
      "metadata": {
        "id": "NMuiembDGTAC",
        "colab_type": "code",
        "colab": {}
      },
      "source": [
        "total_deaths_to_day=selected_data_chile['new_deaths'].sum()"
      ],
      "execution_count": null,
      "outputs": []
    },
    {
      "cell_type": "code",
      "metadata": {
        "id": "BsD-gMATClU0",
        "colab_type": "code",
        "colab": {}
      },
      "source": [
        "#datos necesarios para setear la serie de tiempo\n",
        "selected_data_chile['date']=pd.to_datetime(selected_data_chile['date'])\n",
        "selected_data_chile=selected_data_chile.set_index('date')\n",
        "selected_data_chile=selected_data_chile.asfreq('d')\n",
        "selected_data_chile=selected_data_chile.interpolate()\n",
        "del selected_data_chile['sub_region_1']\n"
      ],
      "execution_count": null,
      "outputs": []
    },
    {
      "cell_type": "code",
      "metadata": {
        "id": "lrlJz2YkkMvl",
        "colab_type": "code",
        "colab": {}
      },
      "source": [
        "selected_data=selected_data_chile"
      ],
      "execution_count": null,
      "outputs": []
    },
    {
      "cell_type": "code",
      "metadata": {
        "id": "eNkrEci2C62v",
        "colab_type": "code",
        "colab": {}
      },
      "source": [
        "#hay unos datos que salen totalmente de la serie. Se debe por una actualización de datos por parte de la fuente.  \n",
        "bad_idx = selected_data.index[selected_data['new_deaths']>500]"
      ],
      "execution_count": null,
      "outputs": []
    },
    {
      "cell_type": "code",
      "metadata": {
        "id": "G5voT31oDGLA",
        "colab_type": "code",
        "colab": {}
      },
      "source": [
        "selected_data.loc[bad_idx,'new_deaths'] = np.nan\n",
        "selected_data=selected_data.interpolate()"
      ],
      "execution_count": null,
      "outputs": []
    },
    {
      "cell_type": "code",
      "metadata": {
        "id": "lKQUlfaUdC_p",
        "colab_type": "code",
        "colab": {}
      },
      "source": [
        "maxid=selected_data.index[selected_data['new_deaths']==selected_data['new_deaths'].max()]"
      ],
      "execution_count": null,
      "outputs": []
    },
    {
      "cell_type": "code",
      "metadata": {
        "id": "8yI-Hb_ldL-V",
        "colab_type": "code",
        "colab": {}
      },
      "source": [
        "maximo=selected_data.loc[maxid]"
      ],
      "execution_count": null,
      "outputs": []
    },
    {
      "cell_type": "code",
      "metadata": {
        "id": "pj16VstZaVlR",
        "colab_type": "code",
        "colab": {
          "base_uri": "https://localhost:8080/",
          "height": 35
        },
        "outputId": "2a921d45-10bc-4e06-dbaf-456774bde146"
      },
      "source": [
        "maximo.index"
      ],
      "execution_count": null,
      "outputs": [
        {
          "output_type": "execute_result",
          "data": {
            "text/plain": [
              "DatetimeIndex(['2020-06-28'], dtype='datetime64[ns]', name='date', freq='D')"
            ]
          },
          "metadata": {
            "tags": []
          },
          "execution_count": 143
        }
      ]
    },
    {
      "cell_type": "code",
      "metadata": {
        "id": "Ng_ktAFtcMzq",
        "colab_type": "code",
        "colab": {
          "base_uri": "https://localhost:8080/",
          "height": 230
        },
        "outputId": "792ad313-844c-4e9d-8c0b-b59f770b2c56"
      },
      "source": [
        "selected_data.head()"
      ],
      "execution_count": null,
      "outputs": [
        {
          "output_type": "execute_result",
          "data": {
            "text/html": [
              "<div>\n",
              "<style scoped>\n",
              "    .dataframe tbody tr th:only-of-type {\n",
              "        vertical-align: middle;\n",
              "    }\n",
              "\n",
              "    .dataframe tbody tr th {\n",
              "        vertical-align: top;\n",
              "    }\n",
              "\n",
              "    .dataframe thead th {\n",
              "        text-align: right;\n",
              "    }\n",
              "</style>\n",
              "<table border=\"1\" class=\"dataframe\">\n",
              "  <thead>\n",
              "    <tr style=\"text-align: right;\">\n",
              "      <th></th>\n",
              "      <th>new_cases</th>\n",
              "      <th>new_deaths</th>\n",
              "      <th>residential_percent_change_from_baseline</th>\n",
              "      <th>country</th>\n",
              "    </tr>\n",
              "    <tr>\n",
              "      <th>date</th>\n",
              "      <th></th>\n",
              "      <th></th>\n",
              "      <th></th>\n",
              "      <th></th>\n",
              "    </tr>\n",
              "  </thead>\n",
              "  <tbody>\n",
              "    <tr>\n",
              "      <th>2020-03-04</th>\n",
              "      <td>1.0</td>\n",
              "      <td>0.0</td>\n",
              "      <td>0.0</td>\n",
              "      <td>Chile</td>\n",
              "    </tr>\n",
              "    <tr>\n",
              "      <th>2020-03-05</th>\n",
              "      <td>2.0</td>\n",
              "      <td>0.0</td>\n",
              "      <td>0.0</td>\n",
              "      <td>Chile</td>\n",
              "    </tr>\n",
              "    <tr>\n",
              "      <th>2020-03-06</th>\n",
              "      <td>1.0</td>\n",
              "      <td>0.0</td>\n",
              "      <td>0.0</td>\n",
              "      <td>Chile</td>\n",
              "    </tr>\n",
              "    <tr>\n",
              "      <th>2020-03-07</th>\n",
              "      <td>1.0</td>\n",
              "      <td>0.0</td>\n",
              "      <td>3.0</td>\n",
              "      <td>Chile</td>\n",
              "    </tr>\n",
              "    <tr>\n",
              "      <th>2020-03-08</th>\n",
              "      <td>3.0</td>\n",
              "      <td>0.0</td>\n",
              "      <td>1.5</td>\n",
              "      <td>NaN</td>\n",
              "    </tr>\n",
              "  </tbody>\n",
              "</table>\n",
              "</div>"
            ],
            "text/plain": [
              "            new_cases  ...  country\n",
              "date                   ...         \n",
              "2020-03-04        1.0  ...    Chile\n",
              "2020-03-05        2.0  ...    Chile\n",
              "2020-03-06        1.0  ...    Chile\n",
              "2020-03-07        1.0  ...    Chile\n",
              "2020-03-08        3.0  ...      NaN\n",
              "\n",
              "[5 rows x 4 columns]"
            ]
          },
          "metadata": {
            "tags": []
          },
          "execution_count": 144
        }
      ]
    },
    {
      "cell_type": "code",
      "metadata": {
        "id": "TN3r8OoJ5gWm",
        "colab_type": "code",
        "colab": {
          "base_uri": "https://localhost:8080/",
          "height": 200
        },
        "outputId": "25cd0cad-4181-4c07-da16-62f6f8325ac0"
      },
      "source": [
        "results = seasonal_decompose(selected_data['new_deaths'])\n",
        "results.observed.plot(figsize=(12,2))"
      ],
      "execution_count": null,
      "outputs": [
        {
          "output_type": "execute_result",
          "data": {
            "text/plain": [
              "<matplotlib.axes._subplots.AxesSubplot at 0x7ff896ea1cc0>"
            ]
          },
          "metadata": {
            "tags": []
          },
          "execution_count": 145
        },
        {
          "output_type": "display_data",
          "data": {
            "image/png": "[encoded data removed]",
            "text/plain": [
              "<Figure size 864x144 with 1 Axes>"
            ]
          },
          "metadata": {
            "tags": [],
            "needs_background": "light"
          }
        }
      ]
    },
    {
      "cell_type": "code",
      "metadata": {
        "id": "tXOwP2Or6rgl",
        "colab_type": "code",
        "colab": {
          "base_uri": "https://localhost:8080/",
          "height": 200
        },
        "outputId": "b5b6dfdd-2de8-414d-d508-3d48aee776ca"
      },
      "source": [
        "results.trend.plot(figsize=(12,2))"
      ],
      "execution_count": null,
      "outputs": [
        {
          "output_type": "execute_result",
          "data": {
            "text/plain": [
              "<matplotlib.axes._subplots.AxesSubplot at 0x7ff896ec5e10>"
            ]
          },
          "metadata": {
            "tags": []
          },
          "execution_count": 146
        },
        {
          "output_type": "display_data",
          "data": {
            "image/png": "[encoded data removed]",
            "text/plain": [
              "<Figure size 864x144 with 1 Axes>"
            ]
          },
          "metadata": {
            "tags": [],
            "needs_background": "light"
          }
        }
      ]
    },
    {
      "cell_type": "code",
      "metadata": {
        "id": "k-XbTrKe6wVm",
        "colab_type": "code",
        "colab": {
          "base_uri": "https://localhost:8080/",
          "height": 200
        },
        "outputId": "2e9cf6fc-984b-4e3c-bacd-dead924d554e"
      },
      "source": [
        "results.seasonal.plot(figsize=(20,2))"
      ],
      "execution_count": null,
      "outputs": [
        {
          "output_type": "execute_result",
          "data": {
            "text/plain": [
              "<matplotlib.axes._subplots.AxesSubplot at 0x7ff896dffe48>"
            ]
          },
          "metadata": {
            "tags": []
          },
          "execution_count": 147
        },
        {
          "output_type": "display_data",
          "data": {
            "image/png": "[encoded data removed]",
            "text/plain": [
              "<Figure size 1440x144 with 1 Axes>"
            ]
          },
          "metadata": {
            "tags": [],
            "needs_background": "light"
          }
        }
      ]
    },
    {
      "cell_type": "code",
      "metadata": {
        "id": "klSYZLBe6zNL",
        "colab_type": "code",
        "colab": {
          "base_uri": "https://localhost:8080/",
          "height": 201
        },
        "outputId": "fed2fa07-d395-476e-acff-18fd69ece461"
      },
      "source": [
        "results.resid.plot(figsize=(12,2))"
      ],
      "execution_count": null,
      "outputs": [
        {
          "output_type": "execute_result",
          "data": {
            "text/plain": [
              "<matplotlib.axes._subplots.AxesSubplot at 0x7ff896b63f28>"
            ]
          },
          "metadata": {
            "tags": []
          },
          "execution_count": 148
        },
        {
          "output_type": "display_data",
          "data": {
            "image/png": "[encoded data removed]",
            "text/plain": [
              "<Figure size 864x144 with 1 Axes>"
            ]
          },
          "metadata": {
            "tags": [],
            "needs_background": "light"
          }
        }
      ]
    },
    {
      "cell_type": "code",
      "metadata": {
        "id": "mfLIBnjfFGAw",
        "colab_type": "code",
        "colab": {}
      },
      "source": [
        "del selected_data['country']\n",
        "del selected_data['new_cases']\n",
        "del selected_data['residential_percent_change_from_baseline']\n"
      ],
      "execution_count": null,
      "outputs": []
    },
    {
      "cell_type": "code",
      "metadata": {
        "id": "HF60Ob_cXynO",
        "colab_type": "code",
        "colab": {}
      },
      "source": [
        "selected_data=selected_data.loc['2020-06-28':]"
      ],
      "execution_count": null,
      "outputs": []
    },
    {
      "cell_type": "code",
      "metadata": {
        "id": "S5OGb5-Nvwnz",
        "colab_type": "code",
        "colab": {}
      },
      "source": [
        "train=selected_data.iloc[:round(len(selected_data)*0.9)]"
      ],
      "execution_count": null,
      "outputs": []
    },
    {
      "cell_type": "code",
      "metadata": {
        "id": "g4p9w4jqVc_7",
        "colab_type": "code",
        "colab": {
          "base_uri": "https://localhost:8080/",
          "height": 686
        },
        "outputId": "366206bd-52af-4ba3-fa75-143ac9cd33e8"
      },
      "source": [
        "train.tail(20)"
      ],
      "execution_count": null,
      "outputs": [
        {
          "output_type": "execute_result",
          "data": {
            "text/html": [
              "<div>\n",
              "<style scoped>\n",
              "    .dataframe tbody tr th:only-of-type {\n",
              "        vertical-align: middle;\n",
              "    }\n",
              "\n",
              "    .dataframe tbody tr th {\n",
              "        vertical-align: top;\n",
              "    }\n",
              "\n",
              "    .dataframe thead th {\n",
              "        text-align: right;\n",
              "    }\n",
              "</style>\n",
              "<table border=\"1\" class=\"dataframe\">\n",
              "  <thead>\n",
              "    <tr style=\"text-align: right;\">\n",
              "      <th></th>\n",
              "      <th>new_deaths</th>\n",
              "    </tr>\n",
              "    <tr>\n",
              "      <th>date</th>\n",
              "      <th></th>\n",
              "    </tr>\n",
              "  </thead>\n",
              "  <tbody>\n",
              "    <tr>\n",
              "      <th>2020-08-02</th>\n",
              "      <td>76.0</td>\n",
              "    </tr>\n",
              "    <tr>\n",
              "      <th>2020-08-03</th>\n",
              "      <td>75.0</td>\n",
              "    </tr>\n",
              "    <tr>\n",
              "      <th>2020-08-04</th>\n",
              "      <td>99.0</td>\n",
              "    </tr>\n",
              "    <tr>\n",
              "      <th>2020-08-05</th>\n",
              "      <td>38.0</td>\n",
              "    </tr>\n",
              "    <tr>\n",
              "      <th>2020-08-06</th>\n",
              "      <td>47.0</td>\n",
              "    </tr>\n",
              "    <tr>\n",
              "      <th>2020-08-07</th>\n",
              "      <td>97.0</td>\n",
              "    </tr>\n",
              "    <tr>\n",
              "      <th>2020-08-08</th>\n",
              "      <td>69.0</td>\n",
              "    </tr>\n",
              "    <tr>\n",
              "      <th>2020-08-09</th>\n",
              "      <td>53.0</td>\n",
              "    </tr>\n",
              "    <tr>\n",
              "      <th>2020-08-10</th>\n",
              "      <td>66.0</td>\n",
              "    </tr>\n",
              "    <tr>\n",
              "      <th>2020-08-11</th>\n",
              "      <td>62.0</td>\n",
              "    </tr>\n",
              "    <tr>\n",
              "      <th>2020-08-12</th>\n",
              "      <td>39.0</td>\n",
              "    </tr>\n",
              "    <tr>\n",
              "      <th>2020-08-13</th>\n",
              "      <td>27.0</td>\n",
              "    </tr>\n",
              "    <tr>\n",
              "      <th>2020-08-14</th>\n",
              "      <td>94.0</td>\n",
              "    </tr>\n",
              "    <tr>\n",
              "      <th>2020-08-15</th>\n",
              "      <td>41.0</td>\n",
              "    </tr>\n",
              "    <tr>\n",
              "      <th>2020-08-16</th>\n",
              "      <td>55.0</td>\n",
              "    </tr>\n",
              "    <tr>\n",
              "      <th>2020-08-17</th>\n",
              "      <td>57.0</td>\n",
              "    </tr>\n",
              "    <tr>\n",
              "      <th>2020-08-18</th>\n",
              "      <td>61.0</td>\n",
              "    </tr>\n",
              "    <tr>\n",
              "      <th>2020-08-19</th>\n",
              "      <td>33.0</td>\n",
              "    </tr>\n",
              "    <tr>\n",
              "      <th>2020-08-20</th>\n",
              "      <td>32.0</td>\n",
              "    </tr>\n",
              "    <tr>\n",
              "      <th>2020-08-21</th>\n",
              "      <td>93.0</td>\n",
              "    </tr>\n",
              "  </tbody>\n",
              "</table>\n",
              "</div>"
            ],
            "text/plain": [
              "            new_deaths\n",
              "date                  \n",
              "2020-08-02        76.0\n",
              "2020-08-03        75.0\n",
              "2020-08-04        99.0\n",
              "2020-08-05        38.0\n",
              "2020-08-06        47.0\n",
              "2020-08-07        97.0\n",
              "2020-08-08        69.0\n",
              "2020-08-09        53.0\n",
              "2020-08-10        66.0\n",
              "2020-08-11        62.0\n",
              "2020-08-12        39.0\n",
              "2020-08-13        27.0\n",
              "2020-08-14        94.0\n",
              "2020-08-15        41.0\n",
              "2020-08-16        55.0\n",
              "2020-08-17        57.0\n",
              "2020-08-18        61.0\n",
              "2020-08-19        33.0\n",
              "2020-08-20        32.0\n",
              "2020-08-21        93.0"
            ]
          },
          "metadata": {
            "tags": []
          },
          "execution_count": 152
        }
      ]
    },
    {
      "cell_type": "code",
      "metadata": {
        "id": "O8ryC20RwNVI",
        "colab_type": "code",
        "colab": {}
      },
      "source": [
        "test=selected_data.iloc[round(len(selected_data)*0.9):]"
      ],
      "execution_count": null,
      "outputs": []
    },
    {
      "cell_type": "code",
      "metadata": {
        "id": "P-_vCAg_VsCI",
        "colab_type": "code",
        "colab": {
          "base_uri": "https://localhost:8080/",
          "height": 230
        },
        "outputId": "f8c0fba0-b43a-4fd6-c4e1-cafd2bb40966"
      },
      "source": [
        "test.head()"
      ],
      "execution_count": null,
      "outputs": [
        {
          "output_type": "execute_result",
          "data": {
            "text/html": [
              "<div>\n",
              "<style scoped>\n",
              "    .dataframe tbody tr th:only-of-type {\n",
              "        vertical-align: middle;\n",
              "    }\n",
              "\n",
              "    .dataframe tbody tr th {\n",
              "        vertical-align: top;\n",
              "    }\n",
              "\n",
              "    .dataframe thead th {\n",
              "        text-align: right;\n",
              "    }\n",
              "</style>\n",
              "<table border=\"1\" class=\"dataframe\">\n",
              "  <thead>\n",
              "    <tr style=\"text-align: right;\">\n",
              "      <th></th>\n",
              "      <th>new_deaths</th>\n",
              "    </tr>\n",
              "    <tr>\n",
              "      <th>date</th>\n",
              "      <th></th>\n",
              "    </tr>\n",
              "  </thead>\n",
              "  <tbody>\n",
              "    <tr>\n",
              "      <th>2020-08-22</th>\n",
              "      <td>52.0</td>\n",
              "    </tr>\n",
              "    <tr>\n",
              "      <th>2020-08-23</th>\n",
              "      <td>69.0</td>\n",
              "    </tr>\n",
              "    <tr>\n",
              "      <th>2020-08-24</th>\n",
              "      <td>60.0</td>\n",
              "    </tr>\n",
              "    <tr>\n",
              "      <th>2020-08-25</th>\n",
              "      <td>64.0</td>\n",
              "    </tr>\n",
              "    <tr>\n",
              "      <th>2020-08-26</th>\n",
              "      <td>42.0</td>\n",
              "    </tr>\n",
              "  </tbody>\n",
              "</table>\n",
              "</div>"
            ],
            "text/plain": [
              "            new_deaths\n",
              "date                  \n",
              "2020-08-22        52.0\n",
              "2020-08-23        69.0\n",
              "2020-08-24        60.0\n",
              "2020-08-25        64.0\n",
              "2020-08-26        42.0"
            ]
          },
          "metadata": {
            "tags": []
          },
          "execution_count": 154
        }
      ]
    },
    {
      "cell_type": "code",
      "metadata": {
        "id": "hu74xDOawhfQ",
        "colab_type": "code",
        "colab": {
          "base_uri": "https://localhost:8080/",
          "height": 35
        },
        "outputId": "d777da34-46f4-452c-8b9d-fb79aaf9b93d"
      },
      "source": [
        "len(train),len(test)"
      ],
      "execution_count": null,
      "outputs": [
        {
          "output_type": "execute_result",
          "data": {
            "text/plain": [
              "(55, 6)"
            ]
          },
          "metadata": {
            "tags": []
          },
          "execution_count": 155
        }
      ]
    },
    {
      "cell_type": "code",
      "metadata": {
        "id": "FwDqME7AwlsT",
        "colab_type": "code",
        "colab": {}
      },
      "source": [
        "from sklearn.preprocessing import MinMaxScaler\n",
        "scaler = MinMaxScaler()"
      ],
      "execution_count": null,
      "outputs": []
    },
    {
      "cell_type": "code",
      "metadata": {
        "id": "laC9VrPWDd-2",
        "colab_type": "code",
        "colab": {
          "base_uri": "https://localhost:8080/",
          "height": 35
        },
        "outputId": "5dda87cb-fb27-429d-c219-d8b5d910b132"
      },
      "source": [
        "scaler.fit(train)"
      ],
      "execution_count": null,
      "outputs": [
        {
          "output_type": "execute_result",
          "data": {
            "text/plain": [
              "MinMaxScaler(copy=True, feature_range=(0, 1))"
            ]
          },
          "metadata": {
            "tags": []
          },
          "execution_count": 157
        }
      ]
    },
    {
      "cell_type": "code",
      "metadata": {
        "id": "_ndjP-6K7Zi3",
        "colab_type": "code",
        "colab": {}
      },
      "source": [
        "scaled_train=scaler.transform(train)\n",
        "scaled_test=scaler.transform(test)"
      ],
      "execution_count": null,
      "outputs": []
    },
    {
      "cell_type": "code",
      "metadata": {
        "id": "11_Vn8KAEP6y",
        "colab_type": "code",
        "colab": {
          "base_uri": "https://localhost:8080/",
          "height": 124
        },
        "outputId": "1f93166a-c26a-488a-f979-d3e989a30bbc"
      },
      "source": [
        "scaled_test"
      ],
      "execution_count": null,
      "outputs": [
        {
          "output_type": "execute_result",
          "data": {
            "text/plain": [
              "array([[0.09920635],\n",
              "       [0.16666667],\n",
              "       [0.13095238],\n",
              "       [0.1468254 ],\n",
              "       [0.05952381],\n",
              "       [0.01984127]])"
            ]
          },
          "metadata": {
            "tags": []
          },
          "execution_count": 159
        }
      ]
    },
    {
      "cell_type": "code",
      "metadata": {
        "id": "gB6DINiYEMdq",
        "colab_type": "code",
        "colab": {}
      },
      "source": [
        "from keras.preprocessing.sequence import TimeseriesGenerator"
      ],
      "execution_count": null,
      "outputs": []
    },
    {
      "cell_type": "code",
      "metadata": {
        "id": "V2FYyypaIhX0",
        "colab_type": "code",
        "colab": {}
      },
      "source": [
        "n_input=7\n",
        "n_features=1\n",
        "generator=TimeseriesGenerator(scaled_train,scaled_train,length=n_input, batch_size=1)"
      ],
      "execution_count": null,
      "outputs": []
    },
    {
      "cell_type": "code",
      "metadata": {
        "id": "_U2hdMVFJnvv",
        "colab_type": "code",
        "colab": {}
      },
      "source": [
        "from keras.models import Sequential\n",
        "from keras.layers import Dense\n",
        "from keras.layers import LSTM"
      ],
      "execution_count": null,
      "outputs": []
    },
    {
      "cell_type": "code",
      "metadata": {
        "id": "F-mR9YYzKu-D",
        "colab_type": "code",
        "colab": {}
      },
      "source": [
        "model = Sequential()\n",
        "model.add(LSTM(100, activation='relu', input_shape=(n_input, n_features)))\n",
        "model.add(Dense(1))\n",
        "model.compile(optimizer='adam', loss='mse')"
      ],
      "execution_count": null,
      "outputs": []
    },
    {
      "cell_type": "code",
      "metadata": {
        "id": "0FNJ6JEHLgyw",
        "colab_type": "code",
        "colab": {
          "base_uri": "https://localhost:8080/",
          "height": 230
        },
        "outputId": "3bd1c254-d333-40d6-eb9d-0a59dc33f998"
      },
      "source": [
        "model.summary()"
      ],
      "execution_count": null,
      "outputs": [
        {
          "output_type": "stream",
          "text": [
            "Model: \"sequential_1\"\n",
            "_________________________________________________________________\n",
            "Layer (type)                 Output Shape              Param #   \n",
            "=================================================================\n",
            "lstm_1 (LSTM)                (None, 100)               40800     \n",
            "_________________________________________________________________\n",
            "dense_1 (Dense)              (None, 1)                 101       \n",
            "=================================================================\n",
            "Total params: 40,901\n",
            "Trainable params: 40,901\n",
            "Non-trainable params: 0\n",
            "_________________________________________________________________\n"
          ],
          "name": "stdout"
        }
      ]
    },
    {
      "cell_type": "code",
      "metadata": {
        "id": "yremlmudLkU_",
        "colab_type": "code",
        "colab": {
          "base_uri": "https://localhost:8080/",
          "height": 1000
        },
        "outputId": "1affb79d-b779-4c0b-a55d-6cf2f6ba61f7"
      },
      "source": [
        "model.fit_generator(generator,epochs=150)"
      ],
      "execution_count": null,
      "outputs": [
        {
          "output_type": "stream",
          "text": [
            "Epoch 1/150\n",
            "48/48 [==============================] - 0s 4ms/step - loss: 0.0189\n",
            "Epoch 2/150\n",
            "48/48 [==============================] - 0s 4ms/step - loss: 0.0130\n",
            "Epoch 3/150\n",
            "48/48 [==============================] - 0s 4ms/step - loss: 0.0117\n",
            "Epoch 4/150\n",
            "48/48 [==============================] - 0s 4ms/step - loss: 0.0134\n",
            "Epoch 5/150\n",
            "48/48 [==============================] - 0s 4ms/step - loss: 0.0125\n",
            "Epoch 6/150\n",
            "48/48 [==============================] - 0s 4ms/step - loss: 0.0120\n",
            "Epoch 7/150\n",
            "48/48 [==============================] - 0s 4ms/step - loss: 0.0112\n",
            "Epoch 8/150\n",
            "48/48 [==============================] - 0s 4ms/step - loss: 0.0118\n",
            "Epoch 9/150\n",
            "48/48 [==============================] - 0s 4ms/step - loss: 0.0112\n",
            "Epoch 10/150\n",
            "48/48 [==============================] - 0s 4ms/step - loss: 0.0110\n",
            "Epoch 11/150\n",
            "48/48 [==============================] - 0s 4ms/step - loss: 0.0122\n",
            "Epoch 12/150\n",
            "48/48 [==============================] - 0s 4ms/step - loss: 0.0109\n",
            "Epoch 13/150\n",
            "48/48 [==============================] - 0s 4ms/step - loss: 0.0115\n",
            "Epoch 14/150\n",
            "48/48 [==============================] - 0s 4ms/step - loss: 0.0112\n",
            "Epoch 15/150\n",
            "48/48 [==============================] - 0s 4ms/step - loss: 0.0103\n",
            "Epoch 16/150\n",
            "48/48 [==============================] - 0s 4ms/step - loss: 0.0108\n",
            "Epoch 17/150\n",
            "48/48 [==============================] - 0s 4ms/step - loss: 0.0100\n",
            "Epoch 18/150\n",
            "48/48 [==============================] - 0s 4ms/step - loss: 0.0094\n",
            "Epoch 19/150\n",
            "48/48 [==============================] - 0s 4ms/step - loss: 0.0097\n",
            "Epoch 20/150\n",
            "48/48 [==============================] - 0s 4ms/step - loss: 0.0095\n",
            "Epoch 21/150\n",
            "48/48 [==============================] - 0s 4ms/step - loss: 0.0099\n",
            "Epoch 22/150\n",
            "48/48 [==============================] - 0s 4ms/step - loss: 0.0094\n",
            "Epoch 23/150\n",
            "48/48 [==============================] - 0s 4ms/step - loss: 0.0091\n",
            "Epoch 24/150\n",
            "48/48 [==============================] - 0s 5ms/step - loss: 0.0093\n",
            "Epoch 25/150\n",
            "48/48 [==============================] - 0s 4ms/step - loss: 0.0092\n",
            "Epoch 26/150\n",
            "48/48 [==============================] - 0s 4ms/step - loss: 0.0099\n",
            "Epoch 27/150\n",
            "48/48 [==============================] - 0s 4ms/step - loss: 0.0101\n",
            "Epoch 28/150\n",
            "48/48 [==============================] - 0s 4ms/step - loss: 0.0099\n",
            "Epoch 29/150\n",
            "48/48 [==============================] - 0s 4ms/step - loss: 0.0086\n",
            "Epoch 30/150\n",
            "48/48 [==============================] - 0s 4ms/step - loss: 0.0088\n",
            "Epoch 31/150\n",
            "48/48 [==============================] - 0s 4ms/step - loss: 0.0088\n",
            "Epoch 32/150\n",
            "48/48 [==============================] - 0s 4ms/step - loss: 0.0085\n",
            "Epoch 33/150\n",
            "48/48 [==============================] - 0s 4ms/step - loss: 0.0076\n",
            "Epoch 34/150\n",
            "48/48 [==============================] - 0s 4ms/step - loss: 0.0103\n",
            "Epoch 35/150\n",
            "48/48 [==============================] - 0s 4ms/step - loss: 0.0082\n",
            "Epoch 36/150\n",
            "48/48 [==============================] - 0s 4ms/step - loss: 0.0091\n",
            "Epoch 37/150\n",
            "48/48 [==============================] - 0s 4ms/step - loss: 0.0080\n",
            "Epoch 38/150\n",
            "48/48 [==============================] - 0s 4ms/step - loss: 0.0079\n",
            "Epoch 39/150\n",
            "48/48 [==============================] - 0s 4ms/step - loss: 0.0083\n",
            "Epoch 40/150\n",
            "48/48 [==============================] - 0s 4ms/step - loss: 0.0080\n",
            "Epoch 41/150\n",
            "48/48 [==============================] - 0s 4ms/step - loss: 0.0091\n",
            "Epoch 42/150\n",
            "48/48 [==============================] - 0s 4ms/step - loss: 0.0082\n",
            "Epoch 43/150\n",
            "48/48 [==============================] - 0s 4ms/step - loss: 0.0082\n",
            "Epoch 44/150\n",
            "48/48 [==============================] - 0s 4ms/step - loss: 0.0077\n",
            "Epoch 45/150\n",
            "48/48 [==============================] - 0s 4ms/step - loss: 0.0077\n",
            "Epoch 46/150\n",
            "48/48 [==============================] - 0s 4ms/step - loss: 0.0085\n",
            "Epoch 47/150\n",
            "48/48 [==============================] - 0s 4ms/step - loss: 0.0078\n",
            "Epoch 48/150\n",
            "48/48 [==============================] - 0s 4ms/step - loss: 0.0078\n",
            "Epoch 49/150\n",
            "48/48 [==============================] - 0s 4ms/step - loss: 0.0084\n",
            "Epoch 50/150\n",
            "48/48 [==============================] - 0s 4ms/step - loss: 0.0080\n",
            "Epoch 51/150\n",
            "48/48 [==============================] - 0s 4ms/step - loss: 0.0074\n",
            "Epoch 52/150\n",
            "48/48 [==============================] - 0s 4ms/step - loss: 0.0072\n",
            "Epoch 53/150\n",
            "48/48 [==============================] - 0s 4ms/step - loss: 0.0077\n",
            "Epoch 54/150\n",
            "48/48 [==============================] - 0s 4ms/step - loss: 0.0074\n",
            "Epoch 55/150\n",
            "48/48 [==============================] - 0s 4ms/step - loss: 0.0074\n",
            "Epoch 56/150\n",
            "48/48 [==============================] - 0s 4ms/step - loss: 0.0082\n",
            "Epoch 57/150\n",
            "48/48 [==============================] - 0s 5ms/step - loss: 0.0076\n",
            "Epoch 58/150\n",
            "48/48 [==============================] - 0s 4ms/step - loss: 0.0077\n",
            "Epoch 59/150\n",
            "48/48 [==============================] - 0s 4ms/step - loss: 0.0079\n",
            "Epoch 60/150\n",
            "48/48 [==============================] - 0s 4ms/step - loss: 0.0074\n",
            "Epoch 61/150\n",
            "48/48 [==============================] - 0s 4ms/step - loss: 0.0078\n",
            "Epoch 62/150\n",
            "48/48 [==============================] - 0s 4ms/step - loss: 0.0076\n",
            "Epoch 63/150\n",
            "48/48 [==============================] - 0s 4ms/step - loss: 0.0081\n",
            "Epoch 64/150\n",
            "48/48 [==============================] - 0s 4ms/step - loss: 0.0073\n",
            "Epoch 65/150\n",
            "48/48 [==============================] - 0s 4ms/step - loss: 0.0075\n",
            "Epoch 66/150\n",
            "48/48 [==============================] - 0s 4ms/step - loss: 0.0071\n",
            "Epoch 67/150\n",
            "48/48 [==============================] - 0s 4ms/step - loss: 0.0075\n",
            "Epoch 68/150\n",
            "48/48 [==============================] - 0s 4ms/step - loss: 0.0072\n",
            "Epoch 69/150\n",
            "48/48 [==============================] - 0s 4ms/step - loss: 0.0071\n",
            "Epoch 70/150\n",
            "48/48 [==============================] - 0s 4ms/step - loss: 0.0073\n",
            "Epoch 71/150\n",
            "48/48 [==============================] - 0s 4ms/step - loss: 0.0074\n",
            "Epoch 72/150\n",
            "48/48 [==============================] - 0s 4ms/step - loss: 0.0070\n",
            "Epoch 73/150\n",
            "48/48 [==============================] - 0s 4ms/step - loss: 0.0070\n",
            "Epoch 74/150\n",
            "48/48 [==============================] - 0s 4ms/step - loss: 0.0071\n",
            "Epoch 75/150\n",
            "48/48 [==============================] - 0s 4ms/step - loss: 0.0073\n",
            "Epoch 76/150\n",
            "48/48 [==============================] - 0s 4ms/step - loss: 0.0071\n",
            "Epoch 77/150\n",
            "48/48 [==============================] - 0s 4ms/step - loss: 0.0076\n",
            "Epoch 78/150\n",
            "48/48 [==============================] - 0s 4ms/step - loss: 0.0076\n",
            "Epoch 79/150\n",
            "48/48 [==============================] - 0s 4ms/step - loss: 0.0070\n",
            "Epoch 80/150\n",
            "48/48 [==============================] - 0s 4ms/step - loss: 0.0075\n",
            "Epoch 81/150\n",
            "48/48 [==============================] - 0s 4ms/step - loss: 0.0071\n",
            "Epoch 82/150\n",
            "48/48 [==============================] - 0s 4ms/step - loss: 0.0069\n",
            "Epoch 83/150\n",
            "48/48 [==============================] - 0s 4ms/step - loss: 0.0067\n",
            "Epoch 84/150\n",
            "48/48 [==============================] - 0s 4ms/step - loss: 0.0071\n",
            "Epoch 85/150\n",
            "48/48 [==============================] - 0s 4ms/step - loss: 0.0068\n",
            "Epoch 86/150\n",
            "48/48 [==============================] - 0s 4ms/step - loss: 0.0075\n",
            "Epoch 87/150\n",
            "48/48 [==============================] - 0s 4ms/step - loss: 0.0071\n",
            "Epoch 88/150\n",
            "48/48 [==============================] - 0s 4ms/step - loss: 0.0068\n",
            "Epoch 89/150\n",
            "48/48 [==============================] - 0s 4ms/step - loss: 0.0076\n",
            "Epoch 90/150\n",
            "48/48 [==============================] - 0s 4ms/step - loss: 0.0068\n",
            "Epoch 91/150\n",
            "48/48 [==============================] - 0s 4ms/step - loss: 0.0067\n",
            "Epoch 92/150\n",
            "48/48 [==============================] - 0s 4ms/step - loss: 0.0068\n",
            "Epoch 93/150\n",
            "48/48 [==============================] - 0s 4ms/step - loss: 0.0075\n",
            "Epoch 94/150\n",
            "48/48 [==============================] - 0s 4ms/step - loss: 0.0068\n",
            "Epoch 95/150\n",
            "48/48 [==============================] - 0s 4ms/step - loss: 0.0065\n",
            "Epoch 96/150\n",
            "48/48 [==============================] - 0s 4ms/step - loss: 0.0067\n",
            "Epoch 97/150\n",
            "48/48 [==============================] - 0s 4ms/step - loss: 0.0072\n",
            "Epoch 98/150\n",
            "48/48 [==============================] - 0s 4ms/step - loss: 0.0064\n",
            "Epoch 99/150\n",
            "48/48 [==============================] - 0s 4ms/step - loss: 0.0064\n",
            "Epoch 100/150\n",
            "48/48 [==============================] - 0s 4ms/step - loss: 0.0067\n",
            "Epoch 101/150\n",
            "48/48 [==============================] - 0s 4ms/step - loss: 0.0071\n",
            "Epoch 102/150\n",
            "48/48 [==============================] - 0s 4ms/step - loss: 0.0068\n",
            "Epoch 103/150\n",
            "48/48 [==============================] - 0s 4ms/step - loss: 0.0070\n",
            "Epoch 104/150\n",
            "48/48 [==============================] - 0s 4ms/step - loss: 0.0062\n",
            "Epoch 105/150\n",
            "48/48 [==============================] - 0s 4ms/step - loss: 0.0064\n",
            "Epoch 106/150\n",
            "48/48 [==============================] - 0s 4ms/step - loss: 0.0065\n",
            "Epoch 107/150\n",
            "48/48 [==============================] - 0s 4ms/step - loss: 0.0066\n",
            "Epoch 108/150\n",
            "48/48 [==============================] - 0s 4ms/step - loss: 0.0064\n",
            "Epoch 109/150\n",
            "48/48 [==============================] - 0s 4ms/step - loss: 0.0069\n",
            "Epoch 110/150\n",
            "48/48 [==============================] - 0s 4ms/step - loss: 0.0065\n",
            "Epoch 111/150\n",
            "48/48 [==============================] - 0s 4ms/step - loss: 0.0062\n",
            "Epoch 112/150\n",
            "48/48 [==============================] - 0s 4ms/step - loss: 0.0062\n",
            "Epoch 113/150\n",
            "48/48 [==============================] - 0s 4ms/step - loss: 0.0060\n",
            "Epoch 114/150\n",
            "48/48 [==============================] - 0s 4ms/step - loss: 0.0059\n",
            "Epoch 115/150\n",
            "48/48 [==============================] - 0s 4ms/step - loss: 0.0068\n",
            "Epoch 116/150\n",
            "48/48 [==============================] - 0s 4ms/step - loss: 0.0067\n",
            "Epoch 117/150\n",
            "48/48 [==============================] - 0s 4ms/step - loss: 0.0066\n",
            "Epoch 118/150\n",
            "48/48 [==============================] - 0s 4ms/step - loss: 0.0065\n",
            "Epoch 119/150\n",
            "48/48 [==============================] - 0s 4ms/step - loss: 0.0062\n",
            "Epoch 120/150\n",
            "48/48 [==============================] - 0s 4ms/step - loss: 0.0062\n",
            "Epoch 121/150\n",
            "48/48 [==============================] - 0s 4ms/step - loss: 0.0067\n",
            "Epoch 122/150\n",
            "48/48 [==============================] - 0s 4ms/step - loss: 0.0063\n",
            "Epoch 123/150\n",
            "48/48 [==============================] - 0s 4ms/step - loss: 0.0063\n",
            "Epoch 124/150\n",
            "48/48 [==============================] - 0s 4ms/step - loss: 0.0060\n",
            "Epoch 125/150\n",
            "48/48 [==============================] - 0s 4ms/step - loss: 0.0061\n",
            "Epoch 126/150\n",
            "48/48 [==============================] - 0s 4ms/step - loss: 0.0060\n",
            "Epoch 127/150\n",
            "48/48 [==============================] - 0s 4ms/step - loss: 0.0061\n",
            "Epoch 128/150\n",
            "48/48 [==============================] - 0s 4ms/step - loss: 0.0061\n",
            "Epoch 129/150\n",
            "48/48 [==============================] - 0s 4ms/step - loss: 0.0057\n",
            "Epoch 130/150\n",
            "48/48 [==============================] - 0s 4ms/step - loss: 0.0058\n",
            "Epoch 131/150\n",
            "48/48 [==============================] - 0s 4ms/step - loss: 0.0061\n",
            "Epoch 132/150\n",
            "48/48 [==============================] - 0s 4ms/step - loss: 0.0059\n",
            "Epoch 133/150\n",
            "48/48 [==============================] - 0s 4ms/step - loss: 0.0062\n",
            "Epoch 134/150\n",
            "48/48 [==============================] - 0s 4ms/step - loss: 0.0061\n",
            "Epoch 135/150\n",
            "48/48 [==============================] - 0s 4ms/step - loss: 0.0057\n",
            "Epoch 136/150\n",
            "48/48 [==============================] - 0s 4ms/step - loss: 0.0055\n",
            "Epoch 137/150\n",
            "48/48 [==============================] - 0s 4ms/step - loss: 0.0056\n",
            "Epoch 138/150\n",
            "48/48 [==============================] - 0s 4ms/step - loss: 0.0058\n",
            "Epoch 139/150\n",
            "48/48 [==============================] - 0s 4ms/step - loss: 0.0064\n",
            "Epoch 140/150\n",
            "48/48 [==============================] - 0s 4ms/step - loss: 0.0054\n",
            "Epoch 141/150\n",
            "48/48 [==============================] - 0s 4ms/step - loss: 0.0051\n",
            "Epoch 142/150\n",
            "48/48 [==============================] - 0s 4ms/step - loss: 0.0060\n",
            "Epoch 143/150\n",
            "48/48 [==============================] - 0s 4ms/step - loss: 0.0069\n",
            "Epoch 144/150\n",
            "48/48 [==============================] - 0s 4ms/step - loss: 0.0054\n",
            "Epoch 145/150\n",
            "48/48 [==============================] - 0s 4ms/step - loss: 0.0055\n",
            "Epoch 146/150\n",
            "48/48 [==============================] - 0s 4ms/step - loss: 0.0055\n",
            "Epoch 147/150\n",
            "48/48 [==============================] - 0s 4ms/step - loss: 0.0053\n",
            "Epoch 148/150\n",
            "48/48 [==============================] - 0s 4ms/step - loss: 0.0052\n",
            "Epoch 149/150\n",
            "48/48 [==============================] - 0s 4ms/step - loss: 0.0053\n",
            "Epoch 150/150\n",
            "48/48 [==============================] - 0s 4ms/step - loss: 0.0060\n"
          ],
          "name": "stdout"
        },
        {
          "output_type": "execute_result",
          "data": {
            "text/plain": [
              "<tensorflow.python.keras.callbacks.History at 0x7ff896c6fb38>"
            ]
          },
          "metadata": {
            "tags": []
          },
          "execution_count": 166
        }
      ]
    },
    {
      "cell_type": "code",
      "metadata": {
        "id": "9JAHu7weMDIM",
        "colab_type": "code",
        "colab": {
          "base_uri": "https://localhost:8080/",
          "height": 35
        },
        "outputId": "78b02532-ac1e-4be3-d3bf-d62a3cc9545e"
      },
      "source": [
        "model.history.history.keys()"
      ],
      "execution_count": null,
      "outputs": [
        {
          "output_type": "execute_result",
          "data": {
            "text/plain": [
              "dict_keys(['loss'])"
            ]
          },
          "metadata": {
            "tags": []
          },
          "execution_count": 167
        }
      ]
    },
    {
      "cell_type": "code",
      "metadata": {
        "id": "8GmXuUynMVEI",
        "colab_type": "code",
        "colab": {
          "base_uri": "https://localhost:8080/",
          "height": 283
        },
        "outputId": "65a4264a-9aa3-43b3-86ab-1c635d79e49d"
      },
      "source": [
        "loss_per_epoch = model.history.history['loss']\n",
        "plt.plot(range(len(loss_per_epoch)),loss_per_epoch)"
      ],
      "execution_count": null,
      "outputs": [
        {
          "output_type": "execute_result",
          "data": {
            "text/plain": [
              "[<matplotlib.lines.Line2D at 0x7ff89695c4a8>]"
            ]
          },
          "metadata": {
            "tags": []
          },
          "execution_count": 168
        },
        {
          "output_type": "display_data",
          "data": {
            "image/png": "[encoded data removed]",
            "text/plain": [
              "<Figure size 432x288 with 1 Axes>"
            ]
          },
          "metadata": {
            "tags": [],
            "needs_background": "light"
          }
        }
      ]
    },
    {
      "cell_type": "code",
      "metadata": {
        "id": "sdjdyGSnMaM8",
        "colab_type": "code",
        "colab": {}
      },
      "source": [
        "first_eval_batch = scaled_train[-7:]"
      ],
      "execution_count": null,
      "outputs": []
    },
    {
      "cell_type": "code",
      "metadata": {
        "id": "KAfrI78mN2ZM",
        "colab_type": "code",
        "colab": {
          "base_uri": "https://localhost:8080/",
          "height": 141
        },
        "outputId": "94c4a16f-eb6e-4835-cb92-687ae292a071"
      },
      "source": [
        "first_eval_batch"
      ],
      "execution_count": null,
      "outputs": [
        {
          "output_type": "execute_result",
          "data": {
            "text/plain": [
              "array([[0.05555556],\n",
              "       [0.11111111],\n",
              "       [0.11904762],\n",
              "       [0.13492063],\n",
              "       [0.02380952],\n",
              "       [0.01984127],\n",
              "       [0.26190476]])"
            ]
          },
          "metadata": {
            "tags": []
          },
          "execution_count": 170
        }
      ]
    },
    {
      "cell_type": "code",
      "metadata": {
        "id": "R9h3AfmqN3xA",
        "colab_type": "code",
        "colab": {}
      },
      "source": [
        "first_eval_batch = first_eval_batch.reshape((1, n_input, n_features))"
      ],
      "execution_count": null,
      "outputs": []
    },
    {
      "cell_type": "code",
      "metadata": {
        "id": "cqcvt1VzN6uM",
        "colab_type": "code",
        "colab": {
          "base_uri": "https://localhost:8080/",
          "height": 35
        },
        "outputId": "2e31c490-5984-420b-870d-4ad071d0cec3"
      },
      "source": [
        "model.predict(first_eval_batch)"
      ],
      "execution_count": null,
      "outputs": [
        {
          "output_type": "execute_result",
          "data": {
            "text/plain": [
              "array([[0.09288821]], dtype=float32)"
            ]
          },
          "metadata": {
            "tags": []
          },
          "execution_count": 172
        }
      ]
    },
    {
      "cell_type": "code",
      "metadata": {
        "id": "K900RdauOFA9",
        "colab_type": "code",
        "colab": {
          "base_uri": "https://localhost:8080/",
          "height": 124
        },
        "outputId": "4edd1a04-5561-465a-ced4-d34b953ff62d"
      },
      "source": [
        "scaled_test"
      ],
      "execution_count": null,
      "outputs": [
        {
          "output_type": "execute_result",
          "data": {
            "text/plain": [
              "array([[0.09920635],\n",
              "       [0.16666667],\n",
              "       [0.13095238],\n",
              "       [0.1468254 ],\n",
              "       [0.05952381],\n",
              "       [0.01984127]])"
            ]
          },
          "metadata": {
            "tags": []
          },
          "execution_count": 173
        }
      ]
    },
    {
      "cell_type": "code",
      "metadata": {
        "id": "HjyoEQv2OIhl",
        "colab_type": "code",
        "colab": {}
      },
      "source": [
        "test_predictions = []\n",
        "\n",
        "first_eval_batch = scaled_train[-n_input:]\n",
        "current_batch = first_eval_batch.reshape((1, n_input, n_features))\n",
        "\n",
        "for i in range(len(test)):\n",
        "    \n",
        "    # obtener la predicción ([0] es para obtener solo el número en lugar de [matriz])\n",
        "    current_pred = model.predict(current_batch)[0]\n",
        "    \n",
        "    # guardar la predicción\n",
        "    test_predictions.append(current_pred) \n",
        "    \n",
        "    # actualizar el lote para incluir ahora la predicción y soltar primer valor\n",
        "    current_batch = np.append(current_batch[:,1:,:],[[current_pred]],axis=1)"
      ],
      "execution_count": null,
      "outputs": []
    },
    {
      "cell_type": "code",
      "metadata": {
        "id": "P6_ISq6SPxIi",
        "colab_type": "code",
        "colab": {}
      },
      "source": [
        "true_predictions = scaler.inverse_transform(test_predictions)\n"
      ],
      "execution_count": null,
      "outputs": []
    },
    {
      "cell_type": "code",
      "metadata": {
        "id": "MC-MJ9pCXaeF",
        "colab_type": "code",
        "colab": {
          "base_uri": "https://localhost:8080/",
          "height": 124
        },
        "outputId": "a5fd1e0d-533e-4e8f-daf0-740ee7d421e6"
      },
      "source": [
        "true_predictions"
      ],
      "execution_count": null,
      "outputs": [
        {
          "output_type": "execute_result",
          "data": {
            "text/plain": [
              "array([[50.40782797],\n",
              "       [62.40428245],\n",
              "       [65.89122391],\n",
              "       [69.31881613],\n",
              "       [54.04492432],\n",
              "       [50.648413  ]])"
            ]
          },
          "metadata": {
            "tags": []
          },
          "execution_count": 176
        }
      ]
    },
    {
      "cell_type": "code",
      "metadata": {
        "id": "s9LNCCLq834w",
        "colab_type": "code",
        "colab": {
          "base_uri": "https://localhost:8080/",
          "height": 124
        },
        "outputId": "fc007e60-72d1-4705-c72d-656f10165420"
      },
      "source": [
        "test['Predictions'] = true_predictions"
      ],
      "execution_count": null,
      "outputs": [
        {
          "output_type": "stream",
          "text": [
            "/usr/local/lib/python3.6/dist-packages/ipykernel_launcher.py:1: SettingWithCopyWarning: \n",
            "A value is trying to be set on a copy of a slice from a DataFrame.\n",
            "Try using .loc[row_indexer,col_indexer] = value instead\n",
            "\n",
            "See the caveats in the documentation: https://pandas.pydata.org/pandas-docs/stable/user_guide/indexing.html#returning-a-view-versus-a-copy\n",
            "  \"\"\"Entry point for launching an IPython kernel.\n"
          ],
          "name": "stderr"
        }
      ]
    },
    {
      "cell_type": "code",
      "metadata": {
        "id": "5AxpHXmsdebx",
        "colab_type": "code",
        "colab": {
          "base_uri": "https://localhost:8080/",
          "height": 538
        },
        "outputId": "c6f4efc5-157b-4719-8b93-8f36f68c26d7"
      },
      "source": [
        "test.plot(figsize=(12,8))"
      ],
      "execution_count": null,
      "outputs": [
        {
          "output_type": "execute_result",
          "data": {
            "text/plain": [
              "<matplotlib.axes._subplots.AxesSubplot at 0x7ff8956f77f0>"
            ]
          },
          "metadata": {
            "tags": []
          },
          "execution_count": 188
        },
        {
          "output_type": "display_data",
          "data": {
            "image/png": "[encoded data removed]",
            "text/plain": [
              "<Figure size 864x576 with 1 Axes>"
            ]
          },
          "metadata": {
            "tags": [],
            "needs_background": "light"
          }
        }
      ]
    },
    {
      "cell_type": "code",
      "metadata": {
        "id": "qK4yAkVxhGPx",
        "colab_type": "code",
        "colab": {}
      },
      "source": [
        "test_predictions2 = []\n",
        "\n",
        "first_eval_batch = scaled_train[-n_input:]\n",
        "current_batch = first_eval_batch.reshape((1, n_input, n_features))\n",
        "\n",
        "for i in range(50):\n",
        "    \n",
        "    # obtener la predicción ([0] es para obtener solo el número en lugar de [matriz])\n",
        "    current_pred = model.predict(current_batch)[0]\n",
        "    \n",
        "    # guardar la predicción\n",
        "    test_predictions2.append(current_pred) \n",
        "    \n",
        "    # actualizar el lote para incluir ahora la predicción y soltar primer valor\n",
        "    current_batch = np.append(current_batch[:,1:,:],[[current_pred]],axis=1)"
      ],
      "execution_count": null,
      "outputs": []
    },
    {
      "cell_type": "code",
      "metadata": {
        "id": "DLEV_IPci8Dz",
        "colab_type": "code",
        "colab": {
          "base_uri": "https://localhost:8080/",
          "height": 266
        },
        "outputId": "143f8382-3a48-489f-ae47-d4a4575d4e96"
      },
      "source": [
        "from datetime import date\n",
        "today=date.today()\n",
        "begin=today.strftime(\"%Y-%m-%d\")\n",
        "forecast=pd.date_range(begin,periods=50, freq='d')\n",
        "forecast"
      ],
      "execution_count": null,
      "outputs": [
        {
          "output_type": "execute_result",
          "data": {
            "text/plain": [
              "DatetimeIndex(['2020-08-28', '2020-08-29', '2020-08-30', '2020-08-31',\n",
              "               '2020-09-01', '2020-09-02', '2020-09-03', '2020-09-04',\n",
              "               '2020-09-05', '2020-09-06', '2020-09-07', '2020-09-08',\n",
              "               '2020-09-09', '2020-09-10', '2020-09-11', '2020-09-12',\n",
              "               '2020-09-13', '2020-09-14', '2020-09-15', '2020-09-16',\n",
              "               '2020-09-17', '2020-09-18', '2020-09-19', '2020-09-20',\n",
              "               '2020-09-21', '2020-09-22', '2020-09-23', '2020-09-24',\n",
              "               '2020-09-25', '2020-09-26', '2020-09-27', '2020-09-28',\n",
              "               '2020-09-29', '2020-09-30', '2020-10-01', '2020-10-02',\n",
              "               '2020-10-03', '2020-10-04', '2020-10-05', '2020-10-06',\n",
              "               '2020-10-07', '2020-10-08', '2020-10-09', '2020-10-10',\n",
              "               '2020-10-11', '2020-10-12', '2020-10-13', '2020-10-14',\n",
              "               '2020-10-15', '2020-10-16'],\n",
              "              dtype='datetime64[ns]', freq='D')"
            ]
          },
          "metadata": {
            "tags": []
          },
          "execution_count": 189
        }
      ]
    },
    {
      "cell_type": "code",
      "metadata": {
        "id": "cgsf8BDhjCDl",
        "colab_type": "code",
        "colab": {}
      },
      "source": [
        "true_predictions2 = scaler.inverse_transform(test_predictions2)"
      ],
      "execution_count": null,
      "outputs": []
    },
    {
      "cell_type": "code",
      "metadata": {
        "id": "Z8da3-bgQeoo",
        "colab_type": "code",
        "colab": {
          "base_uri": "https://localhost:8080/",
          "height": 1000
        },
        "outputId": "f51a9793-96a4-44cd-9e41-26e49898843d"
      },
      "source": [
        "true_predictions2=scaler.inverse_transform(test_predictions2)\n",
        "predicts=pd.DataFrame(true_predictions2)\n",
        "predicts['fecha']=forecast\n",
        "predicts=predicts.set_index('fecha')\n",
        "predicts"
      ],
      "execution_count": null,
      "outputs": [
        {
          "output_type": "execute_result",
          "data": {
            "text/html": [
              "<div>\n",
              "<style scoped>\n",
              "    .dataframe tbody tr th:only-of-type {\n",
              "        vertical-align: middle;\n",
              "    }\n",
              "\n",
              "    .dataframe tbody tr th {\n",
              "        vertical-align: top;\n",
              "    }\n",
              "\n",
              "    .dataframe thead th {\n",
              "        text-align: right;\n",
              "    }\n",
              "</style>\n",
              "<table border=\"1\" class=\"dataframe\">\n",
              "  <thead>\n",
              "    <tr style=\"text-align: right;\">\n",
              "      <th></th>\n",
              "      <th>0</th>\n",
              "    </tr>\n",
              "    <tr>\n",
              "      <th>fecha</th>\n",
              "      <th></th>\n",
              "    </tr>\n",
              "  </thead>\n",
              "  <tbody>\n",
              "    <tr>\n",
              "      <th>2020-08-28</th>\n",
              "      <td>50.407828</td>\n",
              "    </tr>\n",
              "    <tr>\n",
              "      <th>2020-08-29</th>\n",
              "      <td>62.404282</td>\n",
              "    </tr>\n",
              "    <tr>\n",
              "      <th>2020-08-30</th>\n",
              "      <td>65.891224</td>\n",
              "    </tr>\n",
              "    <tr>\n",
              "      <th>2020-08-31</th>\n",
              "      <td>69.318816</td>\n",
              "    </tr>\n",
              "    <tr>\n",
              "      <th>2020-09-01</th>\n",
              "      <td>54.044924</td>\n",
              "    </tr>\n",
              "    <tr>\n",
              "      <th>2020-09-02</th>\n",
              "      <td>50.648413</td>\n",
              "    </tr>\n",
              "    <tr>\n",
              "      <th>2020-09-03</th>\n",
              "      <td>89.388975</td>\n",
              "    </tr>\n",
              "    <tr>\n",
              "      <th>2020-09-04</th>\n",
              "      <td>55.718364</td>\n",
              "    </tr>\n",
              "    <tr>\n",
              "      <th>2020-09-05</th>\n",
              "      <td>64.906650</td>\n",
              "    </tr>\n",
              "    <tr>\n",
              "      <th>2020-09-06</th>\n",
              "      <td>68.903510</td>\n",
              "    </tr>\n",
              "    <tr>\n",
              "      <th>2020-09-07</th>\n",
              "      <td>71.915808</td>\n",
              "    </tr>\n",
              "    <tr>\n",
              "      <th>2020-09-08</th>\n",
              "      <td>60.480237</td>\n",
              "    </tr>\n",
              "    <tr>\n",
              "      <th>2020-09-09</th>\n",
              "      <td>57.225766</td>\n",
              "    </tr>\n",
              "    <tr>\n",
              "      <th>2020-09-10</th>\n",
              "      <td>84.525965</td>\n",
              "    </tr>\n",
              "    <tr>\n",
              "      <th>2020-09-11</th>\n",
              "      <td>59.441045</td>\n",
              "    </tr>\n",
              "    <tr>\n",
              "      <th>2020-09-12</th>\n",
              "      <td>65.734359</td>\n",
              "    </tr>\n",
              "    <tr>\n",
              "      <th>2020-09-13</th>\n",
              "      <td>71.523397</td>\n",
              "    </tr>\n",
              "    <tr>\n",
              "      <th>2020-09-14</th>\n",
              "      <td>73.042993</td>\n",
              "    </tr>\n",
              "    <tr>\n",
              "      <th>2020-09-15</th>\n",
              "      <td>63.257984</td>\n",
              "    </tr>\n",
              "    <tr>\n",
              "      <th>2020-09-16</th>\n",
              "      <td>60.884240</td>\n",
              "    </tr>\n",
              "    <tr>\n",
              "      <th>2020-09-17</th>\n",
              "      <td>80.728688</td>\n",
              "    </tr>\n",
              "    <tr>\n",
              "      <th>2020-09-18</th>\n",
              "      <td>61.737645</td>\n",
              "    </tr>\n",
              "    <tr>\n",
              "      <th>2020-09-19</th>\n",
              "      <td>66.533611</td>\n",
              "    </tr>\n",
              "    <tr>\n",
              "      <th>2020-09-20</th>\n",
              "      <td>73.464604</td>\n",
              "    </tr>\n",
              "    <tr>\n",
              "      <th>2020-09-21</th>\n",
              "      <td>73.407793</td>\n",
              "    </tr>\n",
              "    <tr>\n",
              "      <th>2020-09-22</th>\n",
              "      <td>64.814812</td>\n",
              "    </tr>\n",
              "    <tr>\n",
              "      <th>2020-09-23</th>\n",
              "      <td>63.607271</td>\n",
              "    </tr>\n",
              "    <tr>\n",
              "      <th>2020-09-24</th>\n",
              "      <td>78.126893</td>\n",
              "    </tr>\n",
              "    <tr>\n",
              "      <th>2020-09-25</th>\n",
              "      <td>63.303582</td>\n",
              "    </tr>\n",
              "    <tr>\n",
              "      <th>2020-09-26</th>\n",
              "      <td>67.228187</td>\n",
              "    </tr>\n",
              "    <tr>\n",
              "      <th>2020-09-27</th>\n",
              "      <td>74.643609</td>\n",
              "    </tr>\n",
              "    <tr>\n",
              "      <th>2020-09-28</th>\n",
              "      <td>73.308257</td>\n",
              "    </tr>\n",
              "    <tr>\n",
              "      <th>2020-09-29</th>\n",
              "      <td>65.749480</td>\n",
              "    </tr>\n",
              "    <tr>\n",
              "      <th>2020-09-30</th>\n",
              "      <td>66.013467</td>\n",
              "    </tr>\n",
              "    <tr>\n",
              "      <th>2020-10-01</th>\n",
              "      <td>76.162645</td>\n",
              "    </tr>\n",
              "    <tr>\n",
              "      <th>2020-10-02</th>\n",
              "      <td>64.280432</td>\n",
              "    </tr>\n",
              "    <tr>\n",
              "      <th>2020-10-03</th>\n",
              "      <td>67.610452</td>\n",
              "    </tr>\n",
              "    <tr>\n",
              "      <th>2020-10-04</th>\n",
              "      <td>75.206614</td>\n",
              "    </tr>\n",
              "    <tr>\n",
              "      <th>2020-10-05</th>\n",
              "      <td>72.939469</td>\n",
              "    </tr>\n",
              "    <tr>\n",
              "      <th>2020-10-06</th>\n",
              "      <td>66.404699</td>\n",
              "    </tr>\n",
              "    <tr>\n",
              "      <th>2020-10-07</th>\n",
              "      <td>68.135583</td>\n",
              "    </tr>\n",
              "    <tr>\n",
              "      <th>2020-10-08</th>\n",
              "      <td>74.730460</td>\n",
              "    </tr>\n",
              "    <tr>\n",
              "      <th>2020-10-09</th>\n",
              "      <td>64.957205</td>\n",
              "    </tr>\n",
              "    <tr>\n",
              "      <th>2020-10-10</th>\n",
              "      <td>67.820831</td>\n",
              "    </tr>\n",
              "    <tr>\n",
              "      <th>2020-10-11</th>\n",
              "      <td>75.368146</td>\n",
              "    </tr>\n",
              "    <tr>\n",
              "      <th>2020-10-12</th>\n",
              "      <td>72.442847</td>\n",
              "    </tr>\n",
              "    <tr>\n",
              "      <th>2020-10-13</th>\n",
              "      <td>67.002514</td>\n",
              "    </tr>\n",
              "    <tr>\n",
              "      <th>2020-10-14</th>\n",
              "      <td>69.816336</td>\n",
              "    </tr>\n",
              "    <tr>\n",
              "      <th>2020-10-15</th>\n",
              "      <td>73.800895</td>\n",
              "    </tr>\n",
              "    <tr>\n",
              "      <th>2020-10-16</th>\n",
              "      <td>65.499752</td>\n",
              "    </tr>\n",
              "  </tbody>\n",
              "</table>\n",
              "</div>"
            ],
            "text/plain": [
              "                    0\n",
              "fecha                \n",
              "2020-08-28  50.407828\n",
              "2020-08-29  62.404282\n",
              "2020-08-30  65.891224\n",
              "2020-08-31  69.318816\n",
              "2020-09-01  54.044924\n",
              "2020-09-02  50.648413\n",
              "2020-09-03  89.388975\n",
              "2020-09-04  55.718364\n",
              "2020-09-05  64.906650\n",
              "2020-09-06  68.903510\n",
              "2020-09-07  71.915808\n",
              "2020-09-08  60.480237\n",
              "2020-09-09  57.225766\n",
              "2020-09-10  84.525965\n",
              "2020-09-11  59.441045\n",
              "2020-09-12  65.734359\n",
              "2020-09-13  71.523397\n",
              "2020-09-14  73.042993\n",
              "2020-09-15  63.257984\n",
              "2020-09-16  60.884240\n",
              "2020-09-17  80.728688\n",
              "2020-09-18  61.737645\n",
              "2020-09-19  66.533611\n",
              "2020-09-20  73.464604\n",
              "2020-09-21  73.407793\n",
              "2020-09-22  64.814812\n",
              "2020-09-23  63.607271\n",
              "2020-09-24  78.126893\n",
              "2020-09-25  63.303582\n",
              "2020-09-26  67.228187\n",
              "2020-09-27  74.643609\n",
              "2020-09-28  73.308257\n",
              "2020-09-29  65.749480\n",
              "2020-09-30  66.013467\n",
              "2020-10-01  76.162645\n",
              "2020-10-02  64.280432\n",
              "2020-10-03  67.610452\n",
              "2020-10-04  75.206614\n",
              "2020-10-05  72.939469\n",
              "2020-10-06  66.404699\n",
              "2020-10-07  68.135583\n",
              "2020-10-08  74.730460\n",
              "2020-10-09  64.957205\n",
              "2020-10-10  67.820831\n",
              "2020-10-11  75.368146\n",
              "2020-10-12  72.442847\n",
              "2020-10-13  67.002514\n",
              "2020-10-14  69.816336\n",
              "2020-10-15  73.800895\n",
              "2020-10-16  65.499752"
            ]
          },
          "metadata": {
            "tags": []
          },
          "execution_count": 190
        }
      ]
    },
    {
      "cell_type": "code",
      "metadata": {
        "id": "GhZeh166lgOr",
        "colab_type": "code",
        "colab": {
          "base_uri": "https://localhost:8080/",
          "height": 550
        },
        "outputId": "caad8812-9c0b-42f6-d40c-6ca24740dc39"
      },
      "source": [
        "predicts.plot(figsize=(12,8))"
      ],
      "execution_count": null,
      "outputs": [
        {
          "output_type": "execute_result",
          "data": {
            "text/plain": [
              "<matplotlib.axes._subplots.AxesSubplot at 0x7ff89688eb70>"
            ]
          },
          "metadata": {
            "tags": []
          },
          "execution_count": 191
        },
        {
          "output_type": "display_data",
          "data": {
            "image/png": "[encoded data removed]",
            "text/plain": [
              "<Figure size 864x576 with 1 Axes>"
            ]
          },
          "metadata": {
            "tags": [],
            "needs_background": "light"
          }
        }
      ]
    },
    {
      "cell_type": "code",
      "metadata": {
        "id": "Xy69j-AsQ5UM",
        "colab_type": "code",
        "colab": {}
      },
      "source": [
        "model.save('deaths_chile_covid_rnn.h5')"
      ],
      "execution_count": null,
      "outputs": []
    },
    {
      "cell_type": "code",
      "metadata": {
        "id": "BKT8kvP-R0uY",
        "colab_type": "code",
        "colab": {}
      },
      "source": [
        "from keras.models import load_model\n",
        "new_model = load_model('deaths_chile_covid_rnn.h5')"
      ],
      "execution_count": null,
      "outputs": []
    },
    {
      "cell_type": "code",
      "metadata": {
        "id": "pW-dk9-CR55q",
        "colab_type": "code",
        "colab": {}
      },
      "source": [
        ""
      ],
      "execution_count": null,
      "outputs": []
    }
  ]
}